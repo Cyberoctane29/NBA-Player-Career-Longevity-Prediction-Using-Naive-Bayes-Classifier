{
 "cells": [
  {
   "cell_type": "markdown",
   "id": "88c8032c",
   "metadata": {},
   "source": [
    "# NBA Player Career Longevity Prediction: Using Naive Bayes Classifier"
   ]
  },
  {
   "cell_type": "markdown",
   "id": "cea41bc4",
   "metadata": {},
   "source": [
    "## Introduction\n",
    "\n",
    "The National Basketball Association (NBA), a premier professional basketball league in North America, has brought me on board as a data analytics professional to support league managers and coaching staff in building long-term, successful teams. My role is to analyze player performance data and develop insights that can help identify which athletes are most likely to thrive in the competitive, high-pressure environment of professional basketball.\n",
    "\n",
    "I will apply the full range of data analytics skills I’ve developed, including data preparation, feature engineering, exploratory data analysis (EDA), and predictive modeling. Using Python, I will build and evaluate a Naive Bayes classification model to predict whether a player will remain in the NBA for at least five years. My ultimate objective is to select key predictive features, assess model performance, and provide actionable insights that can help NBA leadership make more informed decisions about player development and retention strategies."
   ]
  },
  {
   "cell_type": "markdown",
   "id": "51a58545",
   "metadata": {},
   "source": [
    "Dataset Structure\n",
    "\n",
    "This model will be trained on a dataset containing rookie-year performance statistics for 1,341 NBA players."
   ]
  },
  {
   "cell_type": "code",
   "execution_count": 1,
   "id": "009e7b40",
   "metadata": {},
   "outputs": [],
   "source": [
    "import pandas as pd\n",
    "from sklearn import naive_bayes\n",
    "from sklearn import model_selection\n",
    "from sklearn import metrics"
   ]
  },
  {
   "cell_type": "code",
   "execution_count": null,
   "id": "e6816209",
   "metadata": {},
   "outputs": [],
   "source": []
  }
 ],
 "metadata": {
  "kernelspec": {
   "display_name": "venv",
   "language": "python",
   "name": "python3"
  },
  "language_info": {
   "codemirror_mode": {
    "name": "ipython",
    "version": 3
   },
   "file_extension": ".py",
   "mimetype": "text/x-python",
   "name": "python",
   "nbconvert_exporter": "python",
   "pygments_lexer": "ipython3",
   "version": "3.13.0"
  }
 },
 "nbformat": 4,
 "nbformat_minor": 5
}
